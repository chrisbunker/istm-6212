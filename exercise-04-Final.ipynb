{
 "cells": [
  {
   "cell_type": "markdown",
   "metadata": {},
   "source": [
    "# Exercise 04 - Due Friday, October 21 at 12pm\n",
    "\n",
    "*Objectives*: Gain experience loading a CSV dataset into a database model you define yourself and using SQL to explore its contents. Explore the data by writing and executing a number of SQL queries using common syntax and functions and describing your findings.\n",
    "\n",
    "*Grading criteria*: The tasks should all be completed, and questions should all be answered with SQL queries in the space provided, unless a text answer is requested. Results should be correct, according to the embedded tests. The notebook itself should be completely reproducible; from start to finish, another person should be able to use the same code to obtain the same results as yours.  Note that you will receive no more than partial credit if you do not add text/markdown cells explaining your thinking at each major step in each problem.\n",
    "\n",
    "*Deadline*: Friday, October 21, 12pm. Submit your notebook to Blackboard and push it to your GitHub repository.\n",
    "\n",
    "## Setup - obtain data and create database\n",
    "\n",
    "The US City Open Data Census has data on [restaurant inspections from all over the country](http://us-city.census.okfn.org/dataset/food-safety).  Let's take a look at data from Albuquerque.  *Note*: metadata and other details for this dataset are available at http://data.cabq.gov/business/foodinspections/.\n",
    "\n",
    "Fyi, to save you a step, I've converted this file into a clean CSV file by using the `dos2unix` command to change its line endings and to switch it to use commas instead of tabs using `csvformat -t inputfile.csv > outputfile.csv`.\n",
    "\n",
    "First we download the dataset:"
   ]
  },
  {
   "cell_type": "code",
   "execution_count": 1,
   "metadata": {
    "collapsed": false
   },
   "outputs": [
    {
     "name": "stdout",
     "output_type": "stream",
     "text": [
      "--2016-10-24 14:16:38--  https://raw.githubusercontent.com/gwsb-istm-6212-fall-2016/syllabus-and-schedule/master/exercises/abq-food-inspections-fy2010.csv\n",
      "Resolving raw.githubusercontent.com (raw.githubusercontent.com)... 151.101.32.133\n",
      "Connecting to raw.githubusercontent.com (raw.githubusercontent.com)|151.101.32.133|:443... connected.\n",
      "HTTP request sent, awaiting response... 200 OK\n",
      "Length: 5025226 (4.8M) [text/plain]\n",
      "Saving to: ‘abq-food-inspections-fy2010.csv’\n",
      "\n",
      "abq-food-inspection 100%[=====================>]   4.79M  --.-KB/s   in 0.1s   \n",
      "\n",
      "2016-10-24 14:16:38 (45.9 MB/s) - ‘abq-food-inspections-fy2010.csv’ saved [5025226/5025226]\n",
      "\n"
     ]
    }
   ],
   "source": [
    "!wget https://raw.githubusercontent.com/gwsb-istm-6212-fall-2016/syllabus-and-schedule/master/exercises/abq-food-inspections-fy2010.csv"
   ]
  },
  {
   "cell_type": "markdown",
   "metadata": {},
   "source": [
    "## Problem 1 - examine the data (35 points)\n",
    "\n",
    "Use `csvstat` and other tools as you see fit and observe its contents.  Review the metadata definitions linked to above.  Describe what you see:  What do all the columns mean?  Are there null values?  Which columns interest you the most?  Which columns present some complications or questions you would like to ask?"
   ]
  },
  {
   "cell_type": "code",
   "execution_count": 2,
   "metadata": {
    "collapsed": false
   },
   "outputs": [
    {
     "name": "stderr",
     "output_type": "stream",
     "text": [
      "/opt/conda/lib/python3.5/site-packages/IPython/config.py:13: ShimWarning: The `IPython.config` package has been deprecated. You should import from traitlets.config instead.\n",
      "  \"You should import from traitlets.config instead.\", ShimWarning)\n",
      "/opt/conda/lib/python3.5/site-packages/IPython/utils/traitlets.py:5: UserWarning: IPython.utils.traitlets has moved to a top-level traitlets package.\n",
      "  warn(\"IPython.utils.traitlets has moved to a top-level traitlets package.\")\n"
     ]
    }
   ],
   "source": [
    "%load_ext sql"
   ]
  },
  {
   "cell_type": "code",
   "execution_count": 3,
   "metadata": {
    "collapsed": false
   },
   "outputs": [
    {
     "name": "stdout",
     "output_type": "stream",
     "text": [
      "[sudo] password for jovyan: Restarting PostgreSQL 9.5 database server: main.\n"
     ]
    }
   ],
   "source": [
    "!echo 'redspot' | sudo -S service postgresql restart"
   ]
  },
  {
   "cell_type": "code",
   "execution_count": 4,
   "metadata": {
    "collapsed": false
   },
   "outputs": [
    {
     "name": "stdout",
     "output_type": "stream",
     "text": [
      "createdb: database creation failed: ERROR:  database \"cbunker\" already exists\r\n"
     ]
    }
   ],
   "source": [
    "!createdb -U dbuser cbunker"
   ]
  },
  {
   "cell_type": "code",
   "execution_count": 5,
   "metadata": {
    "collapsed": false
   },
   "outputs": [
    {
     "data": {
      "text/plain": [
       "'Connected: dbuser@cbunker'"
      ]
     },
     "execution_count": 5,
     "metadata": {},
     "output_type": "execute_result"
    }
   ],
   "source": [
    "%sql postgresql://dbuser@localhost:5432/cbunker"
   ]
  },
  {
   "cell_type": "code",
   "execution_count": 6,
   "metadata": {
    "collapsed": true
   },
   "outputs": [],
   "source": [
    "!mv abq-food-inspections-fy2010.csv inspection.csv"
   ]
  },
  {
   "cell_type": "code",
   "execution_count": 7,
   "metadata": {
    "collapsed": false
   },
   "outputs": [
    {
     "name": "stdout",
     "output_type": "stream",
     "text": [
      "  1: FACILITY_NAME\r\n",
      "  2: FACILITY_KEY\r\n",
      "  3: SITE_ADDRESS\r\n",
      "  4: CITY\r\n",
      "  5: STATE\r\n",
      "  6: ZIP\r\n",
      "  7: OWNER_KEY\r\n",
      "  8: OWNER_NAME\r\n",
      "  9: NATURE_OF_BUSINESS\r\n",
      " 10: STREET_NUMBER\r\n",
      " 11: STREET_NAME\r\n",
      " 12: STREET_TYPE\r\n",
      " 13: POST_DIRECTIONAL\r\n",
      " 14: PHONE\r\n",
      " 15: PROGRAM_CATEGORY\r\n",
      " 16: PROGRAM_CATEGORY_DESCRIPTION\r\n",
      " 17: INSPECTION_DATE\r\n",
      " 18: INSPECTION_TYPE\r\n",
      " 19: INSPECTION_DESC\r\n",
      " 20: SERIAL_NUM\r\n",
      " 21: ACTION_CODE\r\n",
      " 22: ACTION_DESC\r\n",
      " 23: RESULT_CODE\r\n",
      " 24: RESULT_DESC\r\n",
      " 25: VIOLATION_CODE\r\n",
      " 26: VIOLATION_DESC\r\n",
      " 27: INSPECTION_MEMO\r\n"
     ]
    }
   ],
   "source": [
    "!csvcut -n inspection.csv"
   ]
  },
  {
   "cell_type": "markdown",
   "metadata": {},
   "source": [
    "From above we can see the amount of fields and their names. "
   ]
  },
  {
   "cell_type": "code",
   "execution_count": 8,
   "metadata": {
    "collapsed": false
   },
   "outputs": [
    {
     "name": "stdout",
     "output_type": "stream",
     "text": [
      "|--------------------------+--------------+-------------------------------+-------------+-------+-------+-----------+-------------------------+--------------------+---------------+-------------+-------------+------------------+------------+------------------+------------------------------+---------------------+-----------------+-------------------------+------------+-------------+-------------+-------------+----------------+----------------+----------------------------------+------------------|\r\n",
      "|  FACILITY_NAME           | FACILITY_KEY | SITE_ADDRESS                  | CITY        | STATE | ZIP   | OWNER_KEY | OWNER_NAME              | NATURE_OF_BUSINESS | STREET_NUMBER | STREET_NAME | STREET_TYPE | POST_DIRECTIONAL | PHONE      | PROGRAM_CATEGORY | PROGRAM_CATEGORY_DESCRIPTION | INSPECTION_DATE     | INSPECTION_TYPE | INSPECTION_DESC         | SERIAL_NUM | ACTION_CODE | ACTION_DESC | RESULT_CODE | RESULT_DESC    | VIOLATION_CODE | VIOLATION_DESC                   | INSPECTION_MEMO  |\r\n",
      "|--------------------------+--------------+-------------------------------+-------------+-------+-------+-----------+-------------------------+--------------------+---------------+-------------+-------------+------------------+------------+------------------+------------------------------+---------------------+-----------------+-------------------------+------------+-------------+-------------+-------------+----------------+----------------+----------------------------------+------------------|\r\n",
      "|  00BSAY IT WITH CAKE     | 50534        | 10200 GOLF COURSE RD NW STE B | ALBUQUERQUE | NM    | 87114 | 47341     | OOBSAY IT WITH CAKE     | CAKE DECORATING    | 10200         | GOLF COURSE | RD          | NW               | 5058339563 | 0405             | Food Processor               | 2009-10-21 00:00:00 |                 | EMERGENCY RESPONSE      | DA8009125  | 00          | NON-GRADED  | 00          | NOT APPLICABLE |     68         | Delivered Informational Brochure |                  |\r\n",
      "|  00BSAY IT WITH CAKE     | 50534        | 10200 GOLF COURSE RD NW STE B | ALBUQUERQUE | NM    | 87114 | 47341     | OOBSAY IT WITH CAKE     | CAKE DECORATING    | 10200         | GOLF COURSE | RD          | NW               | 5058339563 | 0405             | Food Processor               | 2009-10-21 00:00:00 |                 | ROUTINE FOOD INSPECTION | DA8009123  | 11          | APPROVED    | 03          | IN COMPLIANCE  |     00         | No Violations Found              |                  |\r\n",
      "|  00BSAY IT WITH CAKE     | 50534        | 10200 GOLF COURSE RD NW STE B | ALBUQUERQUE | NM    | 87114 | 47341     | OOBSAY IT WITH CAKE     | CAKE DECORATING    | 10200         | GOLF COURSE | RD          | NW               | 5058339563 | 0405             | Food Processor               | 2009-10-21 00:00:00 |                 | ROUTINE FOOD INSPECTION | DA8009123  | 11          | APPROVED    | 03          | IN COMPLIANCE  |     55         | Additional Comments              |                  |\r\n",
      "|  00BSAY IT WITH CAKE     | 50534        | 10200 GOLF COURSE RD NW STE B | ALBUQUERQUE | NM    | 87114 | 47341     | OOBSAY IT WITH CAKE     | CAKE DECORATING    | 10200         | GOLF COURSE | RD          | NW               | 5058339563 | 0405             | Food Processor               | 2010-04-14 00:00:00 |                 | ROUTINE FOOD INSPECTION | DA8010205  | 11          | APPROVED    | 03          | IN COMPLIANCE  |     00         | No Violations Found              |                  |\r\n",
      "|  00BSAY IT WITH CAKE     | 50534        | 10200 GOLF COURSE RD NW STE B | ALBUQUERQUE | NM    | 87114 | 47341     | OOBSAY IT WITH CAKE     | CAKE DECORATING    | 10200         | GOLF COURSE | RD          | NW               | 5058339563 | 0405             | Food Processor               | 2010-04-14 00:00:00 |                 | ROUTINE FOOD INSPECTION | DA8010205  | 11          | APPROVED    | 03          | IN COMPLIANCE  |     55         | Additional Comments              |                  |\r\n",
      "|  2000 VIETNAM RESTAURANT | 31468        | 601 SAN MATEO BLVD SE         | ALBUQUERQUE | NM    | 87108 | 29294     | 2000 VIETMAN RESTAURANT | RESTAURANT         | 601           | SAN MATEO   | BLVD        | SE               | 5052320900 | 0406             | Food Service Establishment   | 2010-03-23 00:00:00 |                 | ROUTINE FOOD INSPECTION | DA8509472  | 11          | APPROVED    | 03          | IN COMPLIANCE  |     34         | Food contact surfaces            |                  |\r\n",
      "|  2000 VIETNAM RESTAURANT | 31468        | 601 SAN MATEO BLVD SE         | ALBUQUERQUE | NM    | 87108 | 29294     | 2000 VIETMAN RESTAURANT | RESTAURANT         | 601           | SAN MATEO   | BLVD        | SE               | 5052320900 | 0406             | Food Service Establishment   | 2010-03-23 00:00:00 |                 | ROUTINE FOOD INSPECTION | DA8509472  | 11          | APPROVED    | 03          | IN COMPLIANCE  |     35         | Non-Food contact surfaces        |                  |\r\n",
      "|  2000 VIETNAM RESTAURANT | 31468        | 601 SAN MATEO BLVD SE         | ALBUQUERQUE | NM    | 87108 | 29294     | 2000 VIETMAN RESTAURANT | RESTAURANT         | 601           | SAN MATEO   | BLVD        | SE               | 5052320900 | 0406             | Food Service Establishment   | 2010-03-23 00:00:00 |                 | ROUTINE FOOD INSPECTION | DA8509472  | 11          | APPROVED    | 03          | IN COMPLIANCE  |     55         | Additional Comments              |                  |\r\n",
      "|  328 CHINESE CUISINE     | 72789        | 5617 MENAUL BLVD NE STE A     | ALBUQUERQUE | NM    | 87110 | 66644     | 328 CHINESE CUISINE     |                    | 5617          | MENAUL      | BLVD        | NE               | 5058814468 | 0406             | Food Service Establishment   | 2009-12-15 00:00:00 |                 | EMERGENCY RESPONSE      | DA7757250  | 00          | NON-GRADED  | 00          | NOT APPLICABLE |     68         | Delivered Informational Brochure |                  |\r\n",
      "|--------------------------+--------------+-------------------------------+-------------+-------+-------+-----------+-------------------------+--------------------+---------------+-------------+-------------+------------------+------------+------------------+------------------------------+---------------------+-----------------+-------------------------+------------+-------------+-------------+-------------+----------------+----------------+----------------------------------+------------------|\r\n"
     ]
    }
   ],
   "source": [
    "!head inspection.csv | csvlook"
   ]
  },
  {
   "cell_type": "code",
   "execution_count": 9,
   "metadata": {
    "collapsed": false
   },
   "outputs": [
    {
     "name": "stdout",
     "output_type": "stream",
     "text": [
      "  1. FACILITY_NAME\n",
      "\t<class 'str'>\n",
      "\tNulls: False\n",
      "\tUnique values: 2615\n",
      "\t5 most frequent values:\n",
      "\t\tSMITHS FOOD AND DRUG CENTERS INC:\t154\n",
      "\t\tISOTOPES PARK - OVATIONS:\t93\n",
      "\t\tPER EHSII CECELIA GARCIA OOB LA REYNA DEL SUR:\t85\n",
      "\t\tISLETA AMPHITHEATER:\t68\n",
      "\t\tECHO INC:\t68\n",
      "\tMax length: 77\n",
      "  2. FACILITY_KEY\n",
      "\t<class 'int'>\n",
      "\tNulls: False\n",
      "\tMin: 13\n",
      "\tMax: 101482\n",
      "\tSum: 820405773\n",
      "\tMean: 46730.79135338346\n",
      "\tMedian: 50866.0\n",
      "\tStandard Deviation: 32659.794578837962\n",
      "\tUnique values: 2835\n",
      "\t5 most frequent values:\n",
      "\t\t46323:\t93\n",
      "\t\t65863:\t85\n",
      "\t\t80949:\t68\n",
      "\t\t32817:\t68\n",
      "\t\t91825:\t66\n",
      "  3. SITE_ADDRESS\n",
      "\t<class 'str'>\n",
      "\tNulls: True\n",
      "\tUnique values: 2456\n",
      "\t5 most frequent values:\n",
      "\t\t1601 AVENIDA CESAR CHAVEZ SE:\t94\n",
      "\t\t644 OLD COORS BLVD SW:\t85\n",
      "\t\t8601 CENTRAL AV NE:\t77\n",
      "\t\t2200 SUNPORT BLVD SE:\t75\n",
      "\t\t5210 CENTRAL AV SE:\t73\n",
      "\tMax length: 35\n",
      "  4. CITY\n",
      "\t<class 'str'>\n",
      "\tNulls: False\n",
      "\tValues: ALBUQUERQUE\n",
      "  5. STATE\n",
      "\t<class 'str'>\n",
      "\tNulls: False\n",
      "\tValues: NM, 87\n",
      "  6. ZIP\n",
      "\t<class 'str'>\n",
      "\tNulls: False\n",
      "\tUnique values: 48\n",
      "\t5 most frequent values:\n",
      "\t\t87110:\t1996\n",
      "\t\t87108:\t1976\n",
      "\t\t87102:\t1601\n",
      "\t\t87106:\t1568\n",
      "\t\t87109:\t1552\n",
      "\tMax length: 10\n",
      "  7. OWNER_KEY\n",
      "\t<class 'int'>\n",
      "\tNulls: False\n",
      "\tMin: 11\n",
      "\tMax: 87302\n",
      "\tSum: 644760848\n",
      "\tMean: 36725.953975848715\n",
      "\tMedian: 33747.0\n",
      "\tStandard Deviation: 29428.207216739836\n",
      "\tUnique values: 1892\n",
      "\t5 most frequent values:\n",
      "\t\t1838:\t792\n",
      "\t\t3537:\t321\n",
      "\t\t1272:\t228\n",
      "\t\t36280:\t156\n",
      "\t\t80274:\t155\n",
      "  8. OWNER_NAME\n",
      "\t<class 'str'>\n",
      "\tNulls: False\n",
      "\tUnique values: 1852\n",
      "\t5 most frequent values:\n",
      "\t\tAPS:\t792\n",
      "\t\tSMITHS FOOD AND DRUG CENTERS INC:\t321\n",
      "\t\tCIRCLE K STORES INC:\t277\n",
      "\t\tALBERTSONS:\t228\n",
      "\t\tWAL MART STORES EAST  LP:\t156\n",
      "\tMax length: 82\n",
      "  9. NATURE_OF_BUSINESS\n",
      "\t<class 'str'>\n",
      "\tNulls: True\n",
      "\tUnique values: 594\n",
      "\t5 most frequent values:\n",
      "\t\tRESTAURANT:\t4994\n",
      "\t\tFOOD SERVICE:\t691\n",
      "\t\tGROCERY:\t618\n",
      "\t\tBAR/RESTAURANT:\t508\n",
      "\t\tAPS SCHOOL FOOD SERVICE:\t470\n",
      "\tMax length: 25\n",
      " 10. STREET_NUMBER\n",
      "\t<class 'str'>\n",
      "\tNulls: True\n",
      "\tUnique values: 1349\n",
      "\t5 most frequent values:\n",
      "\t\t6600:\t216\n",
      "\t\t10000:\t152\n",
      "\t\t300:\t143\n",
      "\t\t2200:\t127\n",
      "\t\t8100:\t125\n",
      "\tMax length: 7\n",
      " 11. STREET_NAME\n",
      "\t<class 'str'>\n",
      "\tNulls: True\n",
      "\tUnique values: 404\n",
      "\t5 most frequent values:\n",
      "\t\tCENTRAL:\t1898\n",
      "\t\tMENAUL:\t928\n",
      "\t\tCOORS:\t918\n",
      "\t\tMONTGOMERY:\t727\n",
      "\t\tSAN MATEO:\t707\n",
      "\tMax length: 24\n",
      " 12. STREET_TYPE\n",
      "\t<class 'str'>\n",
      "\tNulls: True\n",
      "\tUnique values: 13\n",
      "\t5 most frequent values:\n",
      "\t\tBLVD:\t7636\n",
      "\t\tAV:\t3005\n",
      "\t\tST:\t2065\n",
      "\t\tRD:\t1900\n",
      "\t\tDR:\t995\n",
      "\tMax length: 4\n",
      " 13. POST_DIRECTIONAL\n",
      "\t<class 'str'>\n",
      "\tNulls: True\n",
      "\tValues: NE, SW, N, SE, NW\n",
      " 14. PHONE\n",
      "\t<class 'int'>\n",
      "\tNulls: True\n",
      "\tMin: 2471094\n",
      "\tMax: 505345566137310\n",
      "\tSum: 2608539289633190\n",
      "\tMean: 161719732773.29138\n",
      "\tMedian: 5053454060.0\n",
      "\tStandard Deviation: 8895791545525.992\n",
      "\tUnique values: 2279\n",
      "\t5 most frequent values:\n",
      "\t\t9153321301:\t101\n",
      "\t\t3037929467:\t100\n",
      "\t\t5052224033:\t94\n",
      "\t\t3109680646:\t85\n",
      "\t\t2122383000:\t68\n",
      " 15. PROGRAM_CATEGORY\n",
      "\t<class 'str'>\n",
      "\tNulls: False\n",
      "\tUnique values: 25\n",
      "\t5 most frequent values:\n",
      "\t\t0406:\t7969\n",
      "\t\t0601:\t1159\n",
      "\t\t0607:\t894\n",
      "\t\t0606:\t865\n",
      "\t\t0408:\t832\n",
      "\tMax length: 4\n",
      " 16. PROGRAM_CATEGORY_DESCRIPTION\n",
      "\t<class 'str'>\n",
      "\tNulls: True\n",
      "\tUnique values: 24\n",
      "\t5 most frequent values:\n",
      "\t\tFood Service Establishment:\t7969\n",
      "\t\tRetail -Grocery:\t1159\n",
      "\t\tRetail - Self Service & Prepackage Foods:\t894\n",
      "\t\tRetail - Prepackage Only:\t865\n",
      "\t\tSchool:\t832\n",
      "\tMax length: 40\n",
      " 17. INSPECTION_DATE\n",
      "\t<class 'datetime.date'>\n",
      "\tNulls: False\n",
      "\tMin: 2009-07-01\n",
      "\tMax: 2010-06-30\n",
      "\tUnique values: 258\n",
      "\t5 most frequent values:\n",
      "\t\t2009-12-16:\t184\n",
      "\t\t2009-09-10:\t159\n",
      "\t\t2009-09-25:\t148\n",
      "\t\t2009-11-04:\t133\n",
      "\t\t2009-10-01:\t131\n",
      " 18. INSPECTION_TYPE\n",
      "\t<class 'NoneType'>\n",
      "\tNulls: True\n",
      "\tValues: \n",
      " 19. INSPECTION_DESC\n",
      "\t<class 'str'>\n",
      "\tNulls: False\n",
      "\tUnique values: 15\n",
      "\t5 most frequent values:\n",
      "\t\tROUTINE FOOD INSPECTION:\t12439\n",
      "\t\tEMERGENCY RESPONSE:\t1987\n",
      "\t\tNew Business Inspection:\t1005\n",
      "\t\tPRE-OPENING FOOD INSPECTION:\t743\n",
      "\t\tADDITIONAL SERVICE PROVIDED:\t439\n",
      "\tMax length: 32\n",
      " 20. SERIAL_NUM\n",
      "\t<class 'str'>\n",
      "\tNulls: False\n",
      "\tUnique values: 9046\n",
      "\t5 most frequent values:\n",
      "\t\tDA0047720:\t61\n",
      "\t\tDA0059230:\t61\n",
      "\t\tDA0045676:\t61\n",
      "\t\tDA0045731:\t61\n",
      "\t\tDA0047290:\t61\n",
      "\tMax length: 9\n",
      " 21. ACTION_CODE\n",
      "\t<class 'str'>\n",
      "\tNulls: False\n",
      "\tUnique values: 8\n",
      "\t5 most frequent values:\n",
      "\t\t11:\t14080\n",
      "\t\t00:\t2800\n",
      "\t\t09:\t382\n",
      "\t\t06:\t264\n",
      "\t\t10:\t21\n",
      "\tMax length: 2\n",
      " 22. ACTION_DESC\n",
      "\t<class 'str'>\n",
      "\tNulls: False\n",
      "\tUnique values: 8\n",
      "\t5 most frequent values:\n",
      "\t\tAPPROVED:\t14080\n",
      "\t\tNON-GRADED:\t2800\n",
      "\t\tANNUAL STICKER ISSUED:\t382\n",
      "\t\tUNSATISFACTORY:\t264\n",
      "\t\tANNUAL STICKER NOT ISSUED:\t21\n",
      "\tMax length: 34\n",
      " 23. RESULT_CODE\n",
      "\t<class 'str'>\n",
      "\tNulls: False\n",
      "\tUnique values: 19\n",
      "\t5 most frequent values:\n",
      "\t\t03:\t14389\n",
      "\t\t00:\t2416\n",
      "\t\t05:\t214\n",
      "\t\t22:\t142\n",
      "\t\t18:\t104\n",
      "\tMax length: 2\n",
      " 24. RESULT_DESC\n",
      "\t<class 'str'>\n",
      "\tNulls: False\n",
      "\tUnique values: 19\n",
      "\t5 most frequent values:\n",
      "\t\tIN COMPLIANCE:\t14389\n",
      "\t\tNOT APPLICABLE:\t2416\n",
      "\t\tDOWNGRADE:\t214\n",
      "\t\tOUT OF BUSINESS:\t142\n",
      "\t\tTRAINING RECEIVED:\t104\n",
      "\tMax length: 37\n",
      " 25. VIOLATION_CODE\n",
      "\t<class 'str'>\n",
      "\tNulls: True\n",
      "\tUnique values: 128\n",
      "\t5 most frequent values:\n",
      "\t\t55:\t6348\n",
      "\t\t00:\t3429\n",
      "\t\t68:\t1658\n",
      "\t\t42:\t487\n",
      "\t\t35:\t441\n",
      "\tMax length: 10\n",
      " 26. VIOLATION_DESC\n",
      "\t<class 'str'>\n",
      "\tNulls: True\n",
      "\tUnique values: 70\n",
      "\t5 most frequent values:\n",
      "\t\tAdditional Comments:\t6353\n",
      "\t\tNo Violations Found:\t3434\n",
      "\t\tDelivered Informational Brochure:\t1657\n",
      "\t\tPlumbing: Improperly installed/maintained/supplied:\t492\n",
      "\t\tNon-Food contact surfaces:\t446\n",
      "\tMax length: 50\n",
      " 27. INSPECTION_MEMO\n",
      "\t<class 'NoneType'>\n",
      "\tNulls: True\n",
      "\tValues: \n",
      "\n",
      "Row count: 17556\n"
     ]
    }
   ],
   "source": [
    "!csvstat inspection.csv"
   ]
  },
  {
   "cell_type": "markdown",
   "metadata": {},
   "source": [
    "From CSVSTAT we can see the max character lengths and types of each field."
   ]
  },
  {
   "cell_type": "code",
   "execution_count": 10,
   "metadata": {
    "collapsed": false
   },
   "outputs": [
    {
     "name": "stdout",
     "output_type": "stream",
     "text": [
      "No errors.\r\n"
     ]
    }
   ],
   "source": [
    "!csvclean -n inspection.csv"
   ]
  },
  {
   "cell_type": "markdown",
   "metadata": {},
   "source": [
    "## Problem 2 - define a database model and load the data (35 points)\n",
    "\n",
    "Based on what you found above, create and connect to a new database, define a database table in it, and load this dataset into it.  You may use either of the methods for this step you have seen in earlier class notebooks.  You may choose to eliminate variables/columns if they are not relevant or interesting to you - explain your reasoning if you do.  Either way, you should load a majority of the columns present in the source dataset into the database and all of its rows.\n",
    "\n",
    "Once your data has loaded successfully, run a `COUNT(*)` query to verify that all the data has loaded correctly.\n",
    "\n",
    "Insert a combination of code and text/markdown cells here to connect to your database, define your table, load its data, and verify the loaded records."
   ]
  },
  {
   "cell_type": "code",
   "execution_count": 11,
   "metadata": {
    "collapsed": false
   },
   "outputs": [
    {
     "name": "stdout",
     "output_type": "stream",
     "text": [
      "Done.\n",
      "Done.\n"
     ]
    },
    {
     "data": {
      "text/plain": [
       "[]"
      ]
     },
     "execution_count": 11,
     "metadata": {},
     "output_type": "execute_result"
    }
   ],
   "source": [
    "%%sql\n",
    "DROP TABLE IF EXISTS rest_inspec;\n",
    "CREATE TABLE rest_inspec (\n",
    "    facility_name CHAR(77),\n",
    "    facility_key INTEGER,\n",
    "    site_address CHAR(35),\n",
    "    city CHAR(15),\n",
    "    state CHAR(2),\n",
    "    zip_address CHAR(20),\n",
    "    owner_key INTEGER,\n",
    "    owner_name CHAR(82),\n",
    "    business_type CHAR(25),\n",
    "    street_number CHAR(10),\n",
    "    steet_name CHAR(24),\n",
    "    street_type CHAR(4),\n",
    "    direction CHAR(2),\n",
    "    phone BIGINT,\n",
    "    program_category CHAR(4),\n",
    "    program_des CHAR(40),\n",
    "    inspection_date TIMESTAMP,\n",
    "    inspection_type INTEGER,\n",
    "    inspection_des CHAR(32),\n",
    "    serial CHAR(9),\n",
    "    action_code CHAR(2),\n",
    "    action_des CHAR (34),\n",
    "    result_code CHAR(2),\n",
    "    result_des CHAR(37),\n",
    "    violation_code char(10),\n",
    "    violation_des CHAR(50),\n",
    "    inspection_memo INTEGER\n",
    "    )"
   ]
  },
  {
   "cell_type": "markdown",
   "metadata": {},
   "source": [
    "I want to look at which restaurants are healthiest based on their inspection results, when their last inspection way, and if there were any violations.\n",
    "I am only using the _desc fields because I do not really care about the code numbers. They seem irrelevant to the point of my table.\n",
    "I also only added the zip field because it will tell me the state and city without having to have more fields.\n",
    "\n",
    "**I at first did not include about 15 different columns, but I could not get the data to populate my table with some of the columns not there."
   ]
  },
  {
   "cell_type": "code",
   "execution_count": 12,
   "metadata": {
    "collapsed": false
   },
   "outputs": [
    {
     "name": "stdout",
     "output_type": "stream",
     "text": [
      "/home/jovyan/work\r\n"
     ]
    }
   ],
   "source": [
    "!pwd"
   ]
  },
  {
   "cell_type": "code",
   "execution_count": 13,
   "metadata": {
    "collapsed": false
   },
   "outputs": [
    {
     "name": "stdout",
     "output_type": "stream",
     "text": [
      "17556 rows affected.\n"
     ]
    },
    {
     "data": {
      "text/plain": [
       "[]"
      ]
     },
     "execution_count": 13,
     "metadata": {},
     "output_type": "execute_result"
    }
   ],
   "source": [
    "%%sql\n",
    "COPY rest_inspec FROM '/home/jovyan/work/inspection.csv'\n",
    "CSV\n",
    "HEADER\n",
    "NULL ''\n",
    "DELIMITER ',';"
   ]
  },
  {
   "cell_type": "code",
   "execution_count": 14,
   "metadata": {
    "collapsed": false
   },
   "outputs": [
    {
     "name": "stdout",
     "output_type": "stream",
     "text": [
      "1 rows affected.\n"
     ]
    },
    {
     "data": {
      "text/html": [
       "<table>\n",
       "    <tr>\n",
       "        <th>count</th>\n",
       "    </tr>\n",
       "    <tr>\n",
       "        <td>17556</td>\n",
       "    </tr>\n",
       "</table>"
      ],
      "text/plain": [
       "[(17556,)]"
      ]
     },
     "execution_count": 14,
     "metadata": {},
     "output_type": "execute_result"
    }
   ],
   "source": [
    "%%sql\n",
    "SELECT COUNT(*) FROM rest_inspec;"
   ]
  },
  {
   "cell_type": "markdown",
   "metadata": {},
   "source": [
    "## Problem 3 - explore your data (30 points)\n",
    "\n",
    "Now that the data is loaded, ask some questions of it!  Identify key variables of interest and note their ranges along with other useful descriptive statistics.  Choose and define a few lines of inquiry, execute queries for each, and describe what you find in your result sets.  Use any query techniques we've seen in class, including aggregate functions, transformations, subqueries, or others as appropriate. \n",
    "\n",
    "If you find interesting patterns, adding plots to your exploration would be useful.\n",
    "\n",
    "Insert a combination of code and text/markdown cells here to explore your data."
   ]
  },
  {
   "cell_type": "code",
   "execution_count": 15,
   "metadata": {
    "collapsed": false
   },
   "outputs": [
    {
     "name": "stdout",
     "output_type": "stream",
     "text": [
      "10 rows affected.\n"
     ]
    },
    {
     "data": {
      "text/html": [
       "<table>\n",
       "    <tr>\n",
       "        <th>facility_name</th>\n",
       "        <th>count</th>\n",
       "    </tr>\n",
       "    <tr>\n",
       "        <td>SMITHS FOOD AND DRUG CENTERS INC                                             </td>\n",
       "        <td>64</td>\n",
       "    </tr>\n",
       "    <tr>\n",
       "        <td>ISOTOPES PARK - OVATIONS                                                     </td>\n",
       "        <td>46</td>\n",
       "    </tr>\n",
       "    <tr>\n",
       "        <td>PER EHSII CECELIA GARCIA OOB LA REYNA DEL SUR                                </td>\n",
       "        <td>43</td>\n",
       "    </tr>\n",
       "    <tr>\n",
       "        <td>ISOTOPES PARK - OVATIONS                                                     </td>\n",
       "        <td>42</td>\n",
       "    </tr>\n",
       "    <tr>\n",
       "        <td>PER EHSII CECELIA GARCIA OOB LA REYNA DEL SUR                                </td>\n",
       "        <td>41</td>\n",
       "    </tr>\n",
       "    <tr>\n",
       "        <td>SMITHS FOOD AND DRUG CENTERS INC                                             </td>\n",
       "        <td>36</td>\n",
       "    </tr>\n",
       "    <tr>\n",
       "        <td>ISLETA AMPHITHEATER                                                          </td>\n",
       "        <td>34</td>\n",
       "    </tr>\n",
       "    <tr>\n",
       "        <td>ISLETA AMPHITHEATER                                                          </td>\n",
       "        <td>34</td>\n",
       "    </tr>\n",
       "    <tr>\n",
       "        <td>TALIN MARKET WORLD FOOD FARE                                                 </td>\n",
       "        <td>27</td>\n",
       "    </tr>\n",
       "    <tr>\n",
       "        <td>OOB  PROS RANCH MARKETS OF ALBUQUERQUE                                       </td>\n",
       "        <td>25</td>\n",
       "    </tr>\n",
       "</table>"
      ],
      "text/plain": [
       "[('SMITHS FOOD AND DRUG CENTERS INC                                             ', 64),\n",
       " ('ISOTOPES PARK - OVATIONS                                                     ', 46),\n",
       " ('PER EHSII CECELIA GARCIA OOB LA REYNA DEL SUR                                ', 43),\n",
       " ('ISOTOPES PARK - OVATIONS                                                     ', 42),\n",
       " ('PER EHSII CECELIA GARCIA OOB LA REYNA DEL SUR                                ', 41),\n",
       " ('SMITHS FOOD AND DRUG CENTERS INC                                             ', 36),\n",
       " ('ISLETA AMPHITHEATER                                                          ', 34),\n",
       " ('ISLETA AMPHITHEATER                                                          ', 34),\n",
       " ('TALIN MARKET WORLD FOOD FARE                                                 ', 27),\n",
       " ('OOB  PROS RANCH MARKETS OF ALBUQUERQUE                                       ', 25)]"
      ]
     },
     "execution_count": 15,
     "metadata": {},
     "output_type": "execute_result"
    }
   ],
   "source": [
    "%%sql\n",
    "SELECT facility_name, COUNT(inspection_des) AS count\n",
    "FROM rest_inspec\n",
    "GROUP BY facility_name, violation_des\n",
    "ORDER BY count DESC\n",
    "LIMIT 10;"
   ]
  },
  {
   "cell_type": "markdown",
   "metadata": {},
   "source": [
    "The above data shows the restaurants that are inspected the most. There are some duplicates so there may be some places that have more than one location. Isleta Ampitheater looks like a duplicate, let's find out."
   ]
  },
  {
   "cell_type": "code",
   "execution_count": 16,
   "metadata": {
    "collapsed": false
   },
   "outputs": [
    {
     "name": "stdout",
     "output_type": "stream",
     "text": [
      "10 rows affected.\n"
     ]
    },
    {
     "data": {
      "text/html": [
       "<table>\n",
       "    <tr>\n",
       "        <th>facility_name</th>\n",
       "        <th>count</th>\n",
       "    </tr>\n",
       "    <tr>\n",
       "        <td>SMITHS FOOD AND DRUG CENTERS INC                                             </td>\n",
       "        <td>154</td>\n",
       "    </tr>\n",
       "    <tr>\n",
       "        <td>ISOTOPES PARK - OVATIONS                                                     </td>\n",
       "        <td>93</td>\n",
       "    </tr>\n",
       "    <tr>\n",
       "        <td>PER EHSII CECELIA GARCIA OOB LA REYNA DEL SUR                                </td>\n",
       "        <td>85</td>\n",
       "    </tr>\n",
       "    <tr>\n",
       "        <td>ECHO INC                                                                     </td>\n",
       "        <td>68</td>\n",
       "    </tr>\n",
       "    <tr>\n",
       "        <td>ISLETA AMPHITHEATER                                                          </td>\n",
       "        <td>68</td>\n",
       "    </tr>\n",
       "    <tr>\n",
       "        <td>DIONS PIZZA                                                                  </td>\n",
       "        <td>67</td>\n",
       "    </tr>\n",
       "    <tr>\n",
       "        <td>CIRCLE K 8936                                                                </td>\n",
       "        <td>66</td>\n",
       "    </tr>\n",
       "    <tr>\n",
       "        <td>OOB CALIFORNIA DEL NORTE ICE CREAM LLC                                       </td>\n",
       "        <td>65</td>\n",
       "    </tr>\n",
       "    <tr>\n",
       "        <td>TALIN MARKET WORLD FOOD FARE                                                 </td>\n",
       "        <td>64</td>\n",
       "    </tr>\n",
       "    <tr>\n",
       "        <td>OOB MOM THAI FOOD                                                            </td>\n",
       "        <td>61</td>\n",
       "    </tr>\n",
       "</table>"
      ],
      "text/plain": [
       "[('SMITHS FOOD AND DRUG CENTERS INC                                             ', 154),\n",
       " ('ISOTOPES PARK - OVATIONS                                                     ', 93),\n",
       " ('PER EHSII CECELIA GARCIA OOB LA REYNA DEL SUR                                ', 85),\n",
       " ('ECHO INC                                                                     ', 68),\n",
       " ('ISLETA AMPHITHEATER                                                          ', 68),\n",
       " ('DIONS PIZZA                                                                  ', 67),\n",
       " ('CIRCLE K 8936                                                                ', 66),\n",
       " ('OOB CALIFORNIA DEL NORTE ICE CREAM LLC                                       ', 65),\n",
       " ('TALIN MARKET WORLD FOOD FARE                                                 ', 64),\n",
       " ('OOB MOM THAI FOOD                                                            ', 61)]"
      ]
     },
     "execution_count": 16,
     "metadata": {},
     "output_type": "execute_result"
    }
   ],
   "source": [
    "%%sql\n",
    "SELECT facility_name, count(facility_name) as count\n",
    "FROM rest_inspec\n",
    "GROUP BY facility_name\n",
    "ORDER BY count DESC\n",
    "Limit 10;"
   ]
  },
  {
   "cell_type": "markdown",
   "metadata": {},
   "source": [
    "Here we can see that Isleta was split up in the previous table from the total count. Smiths has the most inspection data on them, possibly because it is also a drug center."
   ]
  },
  {
   "cell_type": "code",
   "execution_count": 17,
   "metadata": {
    "collapsed": false
   },
   "outputs": [
    {
     "name": "stdout",
     "output_type": "stream",
     "text": [
      "10 rows affected.\n"
     ]
    },
    {
     "data": {
      "text/html": [
       "<table>\n",
       "    <tr>\n",
       "        <th>facility_name</th>\n",
       "        <th>count</th>\n",
       "    </tr>\n",
       "    <tr>\n",
       "        <td>IL VICINO HEIGHTS                                                            </td>\n",
       "        <td>1</td>\n",
       "    </tr>\n",
       "    <tr>\n",
       "        <td>OOB BLACK MESA COFFEE CO                                                     </td>\n",
       "        <td>1</td>\n",
       "    </tr>\n",
       "    <tr>\n",
       "        <td>MARIOS PIZZA &amp; PASTA INC                                                     </td>\n",
       "        <td>1</td>\n",
       "    </tr>\n",
       "    <tr>\n",
       "        <td>OOB HAVANA RESTAURANT                                                        </td>\n",
       "        <td>1</td>\n",
       "    </tr>\n",
       "    <tr>\n",
       "        <td>ASIAN NOODLE BAR                                                             </td>\n",
       "        <td>1</td>\n",
       "    </tr>\n",
       "    <tr>\n",
       "        <td>CIRCLE K 8940                                                                </td>\n",
       "        <td>1</td>\n",
       "    </tr>\n",
       "    <tr>\n",
       "        <td>OOB M &amp; M STORES                                                             </td>\n",
       "        <td>1</td>\n",
       "    </tr>\n",
       "    <tr>\n",
       "        <td>AMERICAN LEGION POST 72                                                      </td>\n",
       "        <td>1</td>\n",
       "    </tr>\n",
       "    <tr>\n",
       "        <td>OOB ISABELLAS                                                                </td>\n",
       "        <td>1</td>\n",
       "    </tr>\n",
       "    <tr>\n",
       "        <td>OOB 7/1/14 CARLISLE 66/SUBWAY                                                </td>\n",
       "        <td>1</td>\n",
       "    </tr>\n",
       "</table>"
      ],
      "text/plain": [
       "[('IL VICINO HEIGHTS                                                            ', 1),\n",
       " ('OOB BLACK MESA COFFEE CO                                                     ', 1),\n",
       " ('MARIOS PIZZA & PASTA INC                                                     ', 1),\n",
       " ('OOB HAVANA RESTAURANT                                                        ', 1),\n",
       " ('ASIAN NOODLE BAR                                                             ', 1),\n",
       " ('CIRCLE K 8940                                                                ', 1),\n",
       " ('OOB M & M STORES                                                             ', 1),\n",
       " ('AMERICAN LEGION POST 72                                                      ', 1),\n",
       " ('OOB ISABELLAS                                                                ', 1),\n",
       " ('OOB 7/1/14 CARLISLE 66/SUBWAY                                                ', 1)]"
      ]
     },
     "execution_count": 17,
     "metadata": {},
     "output_type": "execute_result"
    }
   ],
   "source": [
    "%%sql\n",
    "SELECT facility_name, COUNT(inspection_des) AS count\n",
    "FROM rest_inspec\n",
    "GROUP BY facility_name, violation_des\n",
    "ORDER BY count ASC\n",
    "LIMIT 10;"
   ]
  },
  {
   "cell_type": "markdown",
   "metadata": {},
   "source": [
    "The above data shows 10 of the least inspected failities. \n",
    "There are over 50 restaurants that have only been inspected once, but to keep it clean I am only displaying 10."
   ]
  },
  {
   "cell_type": "code",
   "execution_count": 18,
   "metadata": {
    "collapsed": false
   },
   "outputs": [
    {
     "name": "stdout",
     "output_type": "stream",
     "text": [
      "10 rows affected.\n"
     ]
    },
    {
     "data": {
      "text/html": [
       "<table>\n",
       "    <tr>\n",
       "        <th>violation_des</th>\n",
       "        <th>count</th>\n",
       "    </tr>\n",
       "    <tr>\n",
       "        <td>Additional Comments                               </td>\n",
       "        <td>6353</td>\n",
       "    </tr>\n",
       "    <tr>\n",
       "        <td>No Violations Found                               </td>\n",
       "        <td>3434</td>\n",
       "    </tr>\n",
       "    <tr>\n",
       "        <td>Delivered Informational Brochure                  </td>\n",
       "        <td>1657</td>\n",
       "    </tr>\n",
       "    <tr>\n",
       "        <td>None</td>\n",
       "        <td>1009</td>\n",
       "    </tr>\n",
       "    <tr>\n",
       "        <td>Plumbing: Improperly installed/maintained/supplied</td>\n",
       "        <td>492</td>\n",
       "    </tr>\n",
       "    <tr>\n",
       "        <td>Non-Food contact surfaces                         </td>\n",
       "        <td>446</td>\n",
       "    </tr>\n",
       "    <tr>\n",
       "        <td>Improper sanitizing                               </td>\n",
       "        <td>434</td>\n",
       "    </tr>\n",
       "    <tr>\n",
       "        <td>Food unprotected                                  </td>\n",
       "        <td>425</td>\n",
       "    </tr>\n",
       "    <tr>\n",
       "        <td>Floors, Walls, Ceilings                           </td>\n",
       "        <td>406</td>\n",
       "    </tr>\n",
       "    <tr>\n",
       "        <td>Food contact surfaces                             </td>\n",
       "        <td>251</td>\n",
       "    </tr>\n",
       "</table>"
      ],
      "text/plain": [
       "[('Additional Comments                               ', 6353),\n",
       " ('No Violations Found                               ', 3434),\n",
       " ('Delivered Informational Brochure                  ', 1657),\n",
       " (None, 1009),\n",
       " ('Plumbing: Improperly installed/maintained/supplied', 492),\n",
       " ('Non-Food contact surfaces                         ', 446),\n",
       " ('Improper sanitizing                               ', 434),\n",
       " ('Food unprotected                                  ', 425),\n",
       " ('Floors, Walls, Ceilings                           ', 406),\n",
       " ('Food contact surfaces                             ', 251)]"
      ]
     },
     "execution_count": 18,
     "metadata": {},
     "output_type": "execute_result"
    }
   ],
   "source": [
    "%%sql\n",
    "SELECT violation_des, COUNT(*) AS count\n",
    "FROM rest_inspec\n",
    "GROUP BY violation_des\n",
    "ORDER BY count DESC\n",
    "LIMIT 10;"
   ]
  },
  {
   "cell_type": "markdown",
   "metadata": {},
   "source": [
    "The above data shows the 10 most used violation comments. The \"additional comments\" is used the most, but that does not give us any useful information. The next most used it \"no violations found\" which will give us some good information on which facilities are up to code."
   ]
  },
  {
   "cell_type": "code",
   "execution_count": 19,
   "metadata": {
    "collapsed": false
   },
   "outputs": [
    {
     "name": "stdout",
     "output_type": "stream",
     "text": [
      "10 rows affected.\n"
     ]
    },
    {
     "data": {
      "text/html": [
       "<table>\n",
       "    <tr>\n",
       "        <th>violation_code</th>\n",
       "        <th>violation_des</th>\n",
       "    </tr>\n",
       "    <tr>\n",
       "        <td>&nbsp;&nbsp;&nbsp;&nbsp;30    </td>\n",
       "        <td>Poor Hygienic Practices- No hair restraints       </td>\n",
       "    </tr>\n",
       "    <tr>\n",
       "        <td>07  H1    </td>\n",
       "        <td>No violations found at time of inspection.        </td>\n",
       "    </tr>\n",
       "    <tr>\n",
       "        <td>04  00    </td>\n",
       "        <td>No Violations Found                               </td>\n",
       "    </tr>\n",
       "    <tr>\n",
       "        <td>&nbsp;&nbsp;&nbsp;&nbsp;61    </td>\n",
       "        <td>Complaint Not Substantiated                       </td>\n",
       "    </tr>\n",
       "    <tr>\n",
       "        <td>&nbsp;&nbsp;&nbsp;&nbsp;56    </td>\n",
       "        <td>Notice Statement                                  </td>\n",
       "    </tr>\n",
       "    <tr>\n",
       "        <td>04  30    </td>\n",
       "        <td>Poor Hygienic Practices- No hair restraints       </td>\n",
       "    </tr>\n",
       "    <tr>\n",
       "        <td>&nbsp;&nbsp;&nbsp;&nbsp;00    </td>\n",
       "        <td>No Violations Found                               </td>\n",
       "    </tr>\n",
       "    <tr>\n",
       "        <td>04  61    </td>\n",
       "        <td>Complaint Not Substantiated                       </td>\n",
       "    </tr>\n",
       "    <tr>\n",
       "        <td>04  35    </td>\n",
       "        <td>Non-Food contact surfaces                         </td>\n",
       "    </tr>\n",
       "    <tr>\n",
       "        <td>&nbsp;&nbsp;&nbsp;&nbsp;35    </td>\n",
       "        <td>Non-Food contact surfaces                         </td>\n",
       "    </tr>\n",
       "</table>"
      ],
      "text/plain": [
       "[('    30    ', 'Poor Hygienic Practices- No hair restraints       '),\n",
       " ('07  H1    ', 'No violations found at time of inspection.        '),\n",
       " ('04  00    ', 'No Violations Found                               '),\n",
       " ('    61    ', 'Complaint Not Substantiated                       '),\n",
       " ('    56    ', 'Notice Statement                                  '),\n",
       " ('04  30    ', 'Poor Hygienic Practices- No hair restraints       '),\n",
       " ('    00    ', 'No Violations Found                               '),\n",
       " ('04  61    ', 'Complaint Not Substantiated                       '),\n",
       " ('04  35    ', 'Non-Food contact surfaces                         '),\n",
       " ('    35    ', 'Non-Food contact surfaces                         ')]"
      ]
     },
     "execution_count": 19,
     "metadata": {},
     "output_type": "execute_result"
    }
   ],
   "source": [
    "%%sql\n",
    "SELECT DISTINCT violation_code, violation_des\n",
    "FROM rest_inspec\n",
    "WHERE violation_des LIKE '%No%'\n",
    "GROUP BY violation_code, violation_des;"
   ]
  },
  {
   "cell_type": "markdown",
   "metadata": {},
   "source": [
    "We now know that No Violations Found is denoted by the code 04 00. We will use this now to find the cleanest/healthiest facilities."
   ]
  },
  {
   "cell_type": "code",
   "execution_count": 20,
   "metadata": {
    "collapsed": false
   },
   "outputs": [
    {
     "name": "stdout",
     "output_type": "stream",
     "text": [
      "10 rows affected.\n"
     ]
    },
    {
     "data": {
      "text/html": [
       "<table>\n",
       "    <tr>\n",
       "        <th>facility_name</th>\n",
       "        <th>violation_des</th>\n",
       "    </tr>\n",
       "    <tr>\n",
       "        <td>OOB SALSAS GRILL                                                             </td>\n",
       "        <td>No Violations Found                               </td>\n",
       "    </tr>\n",
       "    <tr>\n",
       "        <td>OOB  PROS RANCH MARKETS OF ALBUQUERQUE                                       </td>\n",
       "        <td>No Violations Found                               </td>\n",
       "    </tr>\n",
       "    <tr>\n",
       "        <td>PIZZA HUT 012956                                                             </td>\n",
       "        <td>No Violations Found                               </td>\n",
       "    </tr>\n",
       "    <tr>\n",
       "        <td>G AND S MEAT AND FOOD COMPANY INC                                            </td>\n",
       "        <td>No Violations Found                               </td>\n",
       "    </tr>\n",
       "    <tr>\n",
       "        <td>OOB PER WRITTEN REQUEST QUARTERS WEST RESTAURANT                             </td>\n",
       "        <td>No Violations Found                               </td>\n",
       "    </tr>\n",
       "    <tr>\n",
       "        <td>IL VICINO HEIGHTS                                                            </td>\n",
       "        <td>No Violations Found                               </td>\n",
       "    </tr>\n",
       "    <tr>\n",
       "        <td>OOB JUANS BROKEN TACO                                                        </td>\n",
       "        <td>No Violations Found                               </td>\n",
       "    </tr>\n",
       "    <tr>\n",
       "        <td>JAPANESE KITCHEN                                                             </td>\n",
       "        <td>No Violations Found                               </td>\n",
       "    </tr>\n",
       "    <tr>\n",
       "        <td>SHARK REEF RESTAURANT                                                        </td>\n",
       "        <td>No Violations Found                               </td>\n",
       "    </tr>\n",
       "    <tr>\n",
       "        <td>GIANT 6005                                                                   </td>\n",
       "        <td>No Violations Found                               </td>\n",
       "    </tr>\n",
       "</table>"
      ],
      "text/plain": [
       "[('OOB SALSAS GRILL                                                             ', 'No Violations Found                               '),\n",
       " ('OOB  PROS RANCH MARKETS OF ALBUQUERQUE                                       ', 'No Violations Found                               '),\n",
       " ('PIZZA HUT 012956                                                             ', 'No Violations Found                               '),\n",
       " ('G AND S MEAT AND FOOD COMPANY INC                                            ', 'No Violations Found                               '),\n",
       " ('OOB PER WRITTEN REQUEST QUARTERS WEST RESTAURANT                             ', 'No Violations Found                               '),\n",
       " ('IL VICINO HEIGHTS                                                            ', 'No Violations Found                               '),\n",
       " ('OOB JUANS BROKEN TACO                                                        ', 'No Violations Found                               '),\n",
       " ('JAPANESE KITCHEN                                                             ', 'No Violations Found                               '),\n",
       " ('SHARK REEF RESTAURANT                                                        ', 'No Violations Found                               '),\n",
       " ('GIANT 6005                                                                   ', 'No Violations Found                               ')]"
      ]
     },
     "execution_count": 20,
     "metadata": {},
     "output_type": "execute_result"
    }
   ],
   "source": [
    "%%sql\n",
    "SELECT DISTINCT facility_name, violation_des \n",
    "FROM rest_inspec\n",
    "WHERE violation_des LIKE '%No V%'\n",
    "GROUP BY violation_des, facility_name\n",
    "LIMIT 10;"
   ]
  },
  {
   "cell_type": "markdown",
   "metadata": {},
   "source": [
    "There are over 1705 rows that had no violations. I have limited it to 10. I could not get using the codes, so I did it by violation_des."
   ]
  },
  {
   "cell_type": "markdown",
   "metadata": {},
   "source": [
    "## Bonus (10 points)\n",
    "\n",
    "We have seen a few simple techniques for normalizing data in class.  Choose a column or set of columns that might be redundant and normalize them out to another table:\n",
    "\n",
    "* Identify the columns to normalize in the source data table\n",
    "* Create one or more new tables to hold the normalized records\n",
    "* Extract data into the new tables\n",
    "* Re-insert the new foreign key references from the new table into the source table"
   ]
  },
  {
   "cell_type": "code",
   "execution_count": 21,
   "metadata": {
    "collapsed": false
   },
   "outputs": [
    {
     "name": "stdout",
     "output_type": "stream",
     "text": [
      "Done.\n",
      "17556 rows affected.\n"
     ]
    },
    {
     "data": {
      "text/plain": [
       "[]"
      ]
     },
     "execution_count": 21,
     "metadata": {},
     "output_type": "execute_result"
    }
   ],
   "source": [
    "%%sql\n",
    "DROP TABLE IF EXISTS facility_norm;\n",
    "CREATE TABLE facility_norm AS\n",
    "    SELECT facility_name, facility_key, site_address, city, state, zip_address \n",
    "    FROM rest_inspec;"
   ]
  },
  {
   "cell_type": "code",
   "execution_count": 22,
   "metadata": {
    "collapsed": false
   },
   "outputs": [
    {
     "name": "stdout",
     "output_type": "stream",
     "text": [
      "Done.\n",
      "17556 rows affected.\n"
     ]
    },
    {
     "data": {
      "text/plain": [
       "[]"
      ]
     },
     "execution_count": 22,
     "metadata": {},
     "output_type": "execute_result"
    }
   ],
   "source": [
    "%%sql\n",
    "DROP TABLE IF EXISTS owner_norm;\n",
    "CREATE TABLE owner_norm AS\n",
    "    SELECT owner_key, owner_name, facility_key, business_type, street_number, steet_name, street_type, direction, phone, program_category, program_des\n",
    "    FROM rest_inspec;"
   ]
  },
  {
   "cell_type": "code",
   "execution_count": 23,
   "metadata": {
    "collapsed": false
   },
   "outputs": [
    {
     "name": "stdout",
     "output_type": "stream",
     "text": [
      "Done.\n",
      "17556 rows affected.\n"
     ]
    },
    {
     "data": {
      "text/plain": [
       "[]"
      ]
     },
     "execution_count": 23,
     "metadata": {},
     "output_type": "execute_result"
    }
   ],
   "source": [
    "%%sql\n",
    "DROP TABLE IF EXISTS inspection_norm;\n",
    "CREATE TABLE inspection_norm AS\n",
    "    SELECT inspection_date, inspection_type, facility_key, inspection_des, serial, action_code, action_des, result_code, result_des, violation_code, violation_des, inspection_memo\n",
    "    FROM rest_inspec;"
   ]
  },
  {
   "cell_type": "markdown",
   "metadata": {},
   "source": [
    "I have created 3 normalized tables: facility table, owner table, and inspection table. All the tables are connected by the facility key attribute. Each inspection is done on one facility, and each facility has an owner. The facility_key attribute is the primary key for the facility table and the foreign key for the other two tables."
   ]
  },
  {
   "cell_type": "markdown",
   "metadata": {},
   "source": [
    "I am not sure what is meant by reinserting the foreign keys into the source data. I now have my foreign keys in my 3 normalized tables."
   ]
  },
  {
   "cell_type": "code",
   "execution_count": null,
   "metadata": {
    "collapsed": false
   },
   "outputs": [],
   "source": [
    "%%sql\n",
    "SELECT facility_name, owner_name, inspection_memo\n",
    "FROM facility_norm, owner_norm, inspection_norm\n",
    "WHERE facility_norm.facility_key = owner_norm.facility_key\n",
    "AND facility_norm.facility_key = inspection_norm.facility_key;"
   ]
  },
  {
   "cell_type": "markdown",
   "metadata": {},
   "source": [
    "Each time I run the above code, the kernel dies. I am not sure why, the code is correct and it should run properly."
   ]
  },
  {
   "cell_type": "code",
   "execution_count": null,
   "metadata": {
    "collapsed": true
   },
   "outputs": [],
   "source": []
  }
 ],
 "metadata": {
  "anaconda-cloud": {},
  "kernelspec": {
   "display_name": "Python 3",
   "language": "python",
   "name": "python3"
  },
  "language_info": {
   "codemirror_mode": {
    "name": "ipython",
    "version": 3
   },
   "file_extension": ".py",
   "mimetype": "text/x-python",
   "name": "python",
   "nbconvert_exporter": "python",
   "pygments_lexer": "ipython3",
   "version": "3.5.2"
  }
 },
 "nbformat": 4,
 "nbformat_minor": 1
}
